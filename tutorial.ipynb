{
 "cells": [
  {
   "cell_type": "markdown",
   "metadata": {},
   "source": [
    "# Introduction to Quantel #"
   ]
  },
  {
   "cell_type": "markdown",
   "metadata": {},
   "source": [
    "First import the library"
   ]
  },
  {
   "cell_type": "code",
   "execution_count": 1,
   "metadata": {},
   "outputs": [
    {
     "name": "stdout",
     "output_type": "stream",
     "text": [
      "Libint2 initialized successfully\n"
     ]
    }
   ],
   "source": [
    "import quantel"
   ]
  },
  {
   "cell_type": "markdown",
   "metadata": {},
   "source": [
    "Now we create a molecule. For the time being, we have to add atoms one-by-one."
   ]
  },
  {
   "cell_type": "code",
   "execution_count": 29,
   "metadata": {},
   "outputs": [],
   "source": [
    "R = 2\n",
    "mol = quantel.Molecule()\n",
    "mol.add_atom(\"H\",0.0,0.0,-0.5*R)\n",
    "mol.add_atom(\"He\",0.0,0.0, 0.0*R)\n",
    "mol.add_atom(\"H\",0.0,0.0, 1.0*R)"
   ]
  },
  {
   "cell_type": "markdown",
   "metadata": {},
   "source": [
    "We can print the molecule to see its structure"
   ]
  },
  {
   "cell_type": "code",
   "execution_count": 33,
   "metadata": {},
   "outputs": [
    {
     "name": "stdout",
     "output_type": "stream",
     "text": [
      "   H:   0.000000    0.000000   -1.000000\n",
      "  He:   0.000000    0.000000    0.000000\n",
      "   H:   0.000000    0.000000    2.000000\n"
     ]
    }
   ],
   "source": [
    "mol.print()"
   ]
  },
  {
   "cell_type": "markdown",
   "metadata": {},
   "source": [
    "Next, we create the interface to the Libint library. This requires the molecule object and a string containing the basis set name.\n",
    "All the relevant one- and two-electron integrals are computed on initialization."
   ]
  },
  {
   "cell_type": "code",
   "execution_count": 35,
   "metadata": {},
   "outputs": [],
   "source": [
    "ints = quantel.LibintInterface(\"sto-3g\",mol)"
   ]
  },
  {
   "cell_type": "markdown",
   "metadata": {},
   "source": [
    "We can access individual integrals using \"getter\" functions"
   ]
  },
  {
   "cell_type": "code",
   "execution_count": 37,
   "metadata": {},
   "outputs": [
    {
     "name": "stdout",
     "output_type": "stream",
     "text": [
      "  <0|1> =    0.71422\n",
      "<0|h|1> =   -2.34953\n",
      "<00|11> =    0.71103\n"
     ]
    }
   ],
   "source": [
    "print(f\"  <0|1> = {ints.overlap(0,1) :10.5f}\")\n",
    "print(f\"<0|h|1> = {ints.oei(0,1,True) :10.5f}\")\n",
    "print(f\"<00|11> = {ints.tei(0,0,1,1,True,False) :10.5f}\")"
   ]
  },
  {
   "cell_type": "markdown",
   "metadata": {},
   "source": [
    "Alternatively, we can get a numpy array containing the overlap or one-electron integrals, for example"
   ]
  },
  {
   "cell_type": "code",
   "execution_count": 42,
   "metadata": {},
   "outputs": [
    {
     "name": "stdout",
     "output_type": "stream",
     "text": [
      "Overlap matrix:\n",
      "[[1.         0.71422174 0.22618965]\n",
      " [0.71422174 1.         0.35903206]\n",
      " [0.22618965 0.35903206 1.        ]]\n",
      "\n",
      "One-electron matrix:\n",
      "[[-2.42280842 -2.3495321  -0.63060383]\n",
      " [-2.3495321  -3.33785249 -1.0924851 ]\n",
      " [-0.63060383 -1.0924851  -1.77456513]]\n"
     ]
    }
   ],
   "source": [
    "s = ints.overlap_matrix()\n",
    "h = ints.oei_matrix(True)\n",
    "print(\"Overlap matrix:\")\n",
    "print(s)\n",
    "print(\"\\nOne-electron matrix:\")\n",
    "print(h)"
   ]
  }
 ],
 "metadata": {
  "kernelspec": {
   "display_name": "quantel",
   "language": "python",
   "name": "python3"
  },
  "language_info": {
   "codemirror_mode": {
    "name": "ipython",
    "version": 3
   },
   "file_extension": ".py",
   "mimetype": "text/x-python",
   "name": "python",
   "nbconvert_exporter": "python",
   "pygments_lexer": "ipython3",
   "version": "3.10.14"
  }
 },
 "nbformat": 4,
 "nbformat_minor": 2
}
